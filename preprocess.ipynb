{
 "cells": [
  {
   "cell_type": "code",
   "execution_count": null,
   "metadata": {},
   "outputs": [],
   "source": [
    "import configparser\n",
    "import cv2  # OpenCV - change image\n",
    "import math\n",
    "import pytesseract\n",
    "import numpy as np"
   ]
  },
  {
   "cell_type": "code",
   "execution_count": null,
   "metadata": {},
   "outputs": [],
   "source": [
    "pytesseract.pytesseract.tesseract_cmd = r\"C:\\Program Files\\Tesseract-OCR\\tesseract\""
   ]
  },
  {
   "cell_type": "code",
   "execution_count": null,
   "metadata": {},
   "outputs": [],
   "source": [
    "config = configparser.ConfigParser()\n",
    "config.read(\"config.ini\")\n",
    "BASE_FP = config[\"FILES\"][\"default_path\"]"
   ]
  },
  {
   "cell_type": "code",
   "execution_count": null,
   "metadata": {},
   "outputs": [],
   "source": [
    "# BASE_FP ..\\static\\\n",
    "fp = BASE_FP + \"\\\\changes\\\\boiling-crab.warped.jpg\""
   ]
  },
  {
   "cell_type": "code",
   "execution_count": null,
   "metadata": {},
   "outputs": [],
   "source": [
    "def resize_with_aspect_ratio(image, width=None, height=None, inter=cv2.INTER_AREA):\n",
    "    \"\"\"This is better than our first pass of resize_window\"\"\"\n",
    "    dim = None\n",
    "    (h, w) = image.shape[:2]\n",
    "\n",
    "    if width is None and height is None:\n",
    "        return image\n",
    "    if width is None:\n",
    "        r = height / float(h)\n",
    "        dim = (int(w * r), height)\n",
    "    else:\n",
    "        r = width / float(w)\n",
    "        dim = (width, int(h * r))\n",
    "\n",
    "    return cv2.resize(image, dim, interpolation=inter)"
   ]
  },
  {
   "cell_type": "code",
   "execution_count": null,
   "metadata": {},
   "outputs": [],
   "source": [
    "imgs = {}"
   ]
  },
  {
   "cell_type": "code",
   "execution_count": null,
   "metadata": {},
   "outputs": [],
   "source": [
    "original = cv2.imread(fp)\n",
    "imgs[\"original\"] = original"
   ]
  },
  {
   "cell_type": "code",
   "execution_count": null,
   "metadata": {},
   "outputs": [],
   "source": [
    "def noise_removal(img):\n",
    "    kernel = np.ones((1, 1), np.uint8)\n",
    "    img = cv2.dilate(img, kernel, iterations=1)\n",
    "    kernel = np.ones((1, 1), np.uint8)\n",
    "    img = cv2.erode(img, kernel, iterations=1)\n",
    "    img = cv2.morphologyEx(img, cv2.MORPH_CLOSE, kernel)\n",
    "    img = cv2.medianBlur(img, 3)\n",
    "    return img\n",
    "\n",
    "\n",
    "def remove_noise(image):\n",
    "    # https://nextgeninvent.com/blogs/7-steps-of-image-pre-processing-to-improve-ocr-using-python-2/\n",
    "    return cv2.fastNlMeansDenoisingColored(image, None, 10, 10, 7, 15)"
   ]
  },
  {
   "cell_type": "code",
   "execution_count": null,
   "metadata": {},
   "outputs": [],
   "source": [
    "denoised = noise_removal(original)\n",
    "imgs[\"denoised\"] = denoised"
   ]
  },
  {
   "cell_type": "code",
   "execution_count": null,
   "metadata": {},
   "outputs": [],
   "source": [
    "def bw(img):\n",
    "    _, bw_img = cv2.threshold(img, 127, 255, cv2.THRESH_BINARY)\n",
    "\n",
    "    return bw_img\n",
    "\n",
    "threshold = bw(denoised)\n",
    "imgs[\"threshold\"] = threshold"
   ]
  },
  {
   "cell_type": "code",
   "execution_count": null,
   "metadata": {},
   "outputs": [],
   "source": [
    "kernel = np.ones((2, 2), np.uint8)\n",
    "morph = cv2.morphologyEx(threshold, cv2.MORPH_CLOSE, kernel)\n",
    "morph = cv2.morphologyEx(morph, cv2.MORPH_OPEN, kernel)\n",
    "imgs[\"morphology\"] = morph"
   ]
  },
  {
   "cell_type": "code",
   "execution_count": null,
   "metadata": {},
   "outputs": [],
   "source": [
    "# Display all imgs into separate windows\n",
    "for name, img in imgs.items():\n",
    "    # if \"warp\" in name:\n",
    "    #     resize = resize_window(img, 600, 800, \"\n",
    "    #  warp\")\n",
    "    #     cv2.imshow(name, resize)\n",
    "    # else:\n",
    "    #     resize = resize_with_aspect_ratio(img, 300, 200)\n",
    "    #     cv2.imshow(name, resize)\n",
    "    print(f\"{name}: {img.shape}\")\n",
    "    resize = resize_with_aspect_ratio(img, 400, 200)\n",
    "    cv2.imshow(name, resize)\n",
    "cv2.waitKey(0)\n",
    "cv2.destroyAllWindows()"
   ]
  },
  {
   "cell_type": "code",
   "execution_count": null,
   "metadata": {},
   "outputs": [],
   "source": [
    "options = \"--psm 4\"\n",
    "text = pytesseract.image_to_string(\n",
    "\t# cv2.cvtColor(original, cv2.COLOR_BGR2RGB),\n",
    "    morph,\n",
    "\tconfig=options\n",
    ")\n",
    "\n",
    "print(text)"
   ]
  }
 ],
 "metadata": {
  "kernelspec": {
   "display_name": ".venv",
   "language": "python",
   "name": "python3"
  },
  "language_info": {
   "codemirror_mode": {
    "name": "ipython",
    "version": 3
   },
   "file_extension": ".py",
   "mimetype": "text/x-python",
   "name": "python",
   "nbconvert_exporter": "python",
   "pygments_lexer": "ipython3",
   "version": "3.10.6"
  },
  "orig_nbformat": 4,
  "vscode": {
   "interpreter": {
    "hash": "0036538643ca0742396b75414f464aa148a83f345cf3ded77055a820760bd801"
   }
  }
 },
 "nbformat": 4,
 "nbformat_minor": 2
}
